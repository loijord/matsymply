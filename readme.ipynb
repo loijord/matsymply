{
 "cells": [
  {
   "cell_type": "markdown",
   "metadata": {},
   "source": [
    "* Žaidimas paleidžiamas per failą **matsymply.py**\n",
    "* Žaidime yra 6 lygiai, skirti mokytis spręsti tiesines lygtis pagal mokyklinę 7 klasės programą.\n",
    "* Kiekviename lygyje yra po 10 uždavinių.\n",
    "* Naujas lygis atsirakina tik tada, kai teisingai išsprendžiami bent 9 uždaviniai.\n",
    "* Visi atsakymai turi prasidėti x=... išlaikant idėją, kad lygties sprendimo tikslas yra ne vien tik atsakymo gavimas, bet kryptingi lygybės pertvarkymai, vedantys link atsakymo.\n",
    "* Norint įvesti trupmeną, reikia aktyvuoti įvedimą į vardiklį arba skaitiklį.\n",
    "* Galima įvedinėti tik netaisyklingąsias trupmenas, mišriosios trupmenos neužskaitomos.\n",
    "\n",
    "![](gaming_matsymply.gif)"
   ]
  }
 ],
 "metadata": {
  "kernelspec": {
   "display_name": "Python 3",
   "language": "python",
   "name": "python3"
  },
  "language_info": {
   "codemirror_mode": {
    "name": "ipython",
    "version": 3
   },
   "file_extension": ".py",
   "mimetype": "text/x-python",
   "name": "python",
   "nbconvert_exporter": "python",
   "pygments_lexer": "ipython3",
   "version": "3.7.4"
  }
 },
 "nbformat": 4,
 "nbformat_minor": 2
}
